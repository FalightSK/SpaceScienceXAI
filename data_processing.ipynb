{
 "cells": [
  {
   "cell_type": "code",
   "execution_count": 1,
   "metadata": {},
   "outputs": [],
   "source": [
    "from utils import context_encoding, preprocessing\n",
    "\n",
    "import torch\n",
    "import numpy as np\n",
    "import pandas as pd"
   ]
  },
  {
   "cell_type": "code",
   "execution_count": 2,
   "metadata": {},
   "outputs": [
    {
     "data": {
      "text/html": [
       "<div>\n",
       "<style scoped>\n",
       "    .dataframe tbody tr th:only-of-type {\n",
       "        vertical-align: middle;\n",
       "    }\n",
       "\n",
       "    .dataframe tbody tr th {\n",
       "        vertical-align: top;\n",
       "    }\n",
       "\n",
       "    .dataframe thead th {\n",
       "        text-align: right;\n",
       "    }\n",
       "</style>\n",
       "<table border=\"1\" class=\"dataframe\">\n",
       "  <thead>\n",
       "    <tr style=\"text-align: right;\">\n",
       "      <th></th>\n",
       "      <th>Scalar_B</th>\n",
       "      <th>BX_GSE</th>\n",
       "      <th>BY_GSM</th>\n",
       "      <th>BZ_GSM</th>\n",
       "      <th>SW_Temp</th>\n",
       "      <th>SW_Density</th>\n",
       "      <th>SW_Speed</th>\n",
       "      <th>Flow_Pressure</th>\n",
       "      <th>E_Field</th>\n",
       "      <th>Dst</th>\n",
       "      <th>time</th>\n",
       "    </tr>\n",
       "  </thead>\n",
       "  <tbody>\n",
       "    <tr>\n",
       "      <th>0</th>\n",
       "      <td>7.8</td>\n",
       "      <td>-5.6</td>\n",
       "      <td>3.2</td>\n",
       "      <td>-4.0</td>\n",
       "      <td>76351.0</td>\n",
       "      <td>5.4</td>\n",
       "      <td>389.0</td>\n",
       "      <td>1.54</td>\n",
       "      <td>1.56</td>\n",
       "      <td>6</td>\n",
       "      <td>1640995200</td>\n",
       "    </tr>\n",
       "    <tr>\n",
       "      <th>1</th>\n",
       "      <td>8.3</td>\n",
       "      <td>-5.3</td>\n",
       "      <td>4.9</td>\n",
       "      <td>0.4</td>\n",
       "      <td>67379.0</td>\n",
       "      <td>4.7</td>\n",
       "      <td>390.0</td>\n",
       "      <td>1.26</td>\n",
       "      <td>-0.16</td>\n",
       "      <td>-3</td>\n",
       "      <td>1640998800</td>\n",
       "    </tr>\n",
       "    <tr>\n",
       "      <th>2</th>\n",
       "      <td>9.3</td>\n",
       "      <td>-2.7</td>\n",
       "      <td>3.9</td>\n",
       "      <td>-4.1</td>\n",
       "      <td>103254.0</td>\n",
       "      <td>2.1</td>\n",
       "      <td>454.0</td>\n",
       "      <td>0.87</td>\n",
       "      <td>1.86</td>\n",
       "      <td>-7</td>\n",
       "      <td>1641002400</td>\n",
       "    </tr>\n",
       "    <tr>\n",
       "      <th>3</th>\n",
       "      <td>9.8</td>\n",
       "      <td>1.7</td>\n",
       "      <td>4.0</td>\n",
       "      <td>-8.4</td>\n",
       "      <td>194757.0</td>\n",
       "      <td>2.7</td>\n",
       "      <td>466.0</td>\n",
       "      <td>1.17</td>\n",
       "      <td>3.91</td>\n",
       "      <td>-13</td>\n",
       "      <td>1641006000</td>\n",
       "    </tr>\n",
       "    <tr>\n",
       "      <th>4</th>\n",
       "      <td>8.5</td>\n",
       "      <td>-3.0</td>\n",
       "      <td>4.6</td>\n",
       "      <td>-4.4</td>\n",
       "      <td>126079.0</td>\n",
       "      <td>1.9</td>\n",
       "      <td>454.0</td>\n",
       "      <td>0.70</td>\n",
       "      <td>2.00</td>\n",
       "      <td>-21</td>\n",
       "      <td>1641009600</td>\n",
       "    </tr>\n",
       "  </tbody>\n",
       "</table>\n",
       "</div>"
      ],
      "text/plain": [
       "   Scalar_B  BX_GSE  BY_GSM  BZ_GSM   SW_Temp  SW_Density  SW_Speed  \\\n",
       "0       7.8    -5.6     3.2    -4.0   76351.0         5.4     389.0   \n",
       "1       8.3    -5.3     4.9     0.4   67379.0         4.7     390.0   \n",
       "2       9.3    -2.7     3.9    -4.1  103254.0         2.1     454.0   \n",
       "3       9.8     1.7     4.0    -8.4  194757.0         2.7     466.0   \n",
       "4       8.5    -3.0     4.6    -4.4  126079.0         1.9     454.0   \n",
       "\n",
       "   Flow_Pressure  E_Field  Dst        time  \n",
       "0           1.54     1.56    6  1640995200  \n",
       "1           1.26    -0.16   -3  1640998800  \n",
       "2           0.87     1.86   -7  1641002400  \n",
       "3           1.17     3.91  -13  1641006000  \n",
       "4           0.70     2.00  -21  1641009600  "
      ]
     },
     "execution_count": 2,
     "metadata": {},
     "output_type": "execute_result"
    }
   ],
   "source": [
    "df = pd.read_csv(r\"./dataset/dataset.csv\")\n",
    "df.head()"
   ]
  },
  {
   "cell_type": "code",
   "execution_count": 3,
   "metadata": {},
   "outputs": [],
   "source": [
    "feature_cols = ['Scalar_B', 'BX_GSE', 'BY_GSM', 'BZ_GSM', 'SW_Temp', 'SW_Density', 'SW_Speed', 'Flow_Pressure', 'E_Field']\n",
    "target_col = 'Dst'\n",
    "context_cols = ['time']\n",
    "numerical_features_info = {k:\"standard\" for k in feature_cols}\n",
    "\n",
    "dataset = preprocessing.TabularDataset(\n",
    "    data_path=r\"./dataset/dataset.csv\",\n",
    "    feature_cols=feature_cols,\n",
    "    target_col=target_col,\n",
    "    context_cols=context_cols,\n",
    "    numerical_features_info=numerical_features_info\n",
    ")"
   ]
  },
  {
   "cell_type": "code",
   "execution_count": 4,
   "metadata": {},
   "outputs": [],
   "source": [
    "train_dataset, val_dataset, test_dataset = preprocessing.split_data(dataset)\n",
    "train_loader = preprocessing.create_dataloader(train_dataset, batch_size=8)\n",
    "val_loader = preprocessing.create_dataloader(val_dataset)\n",
    "test_loader = preprocessing.create_dataloader(test_dataset)"
   ]
  },
  {
   "cell_type": "code",
   "execution_count": 5,
   "metadata": {},
   "outputs": [
    {
     "name": "stdout",
     "output_type": "stream",
     "text": [
      "{'features': tensor([[-0.2493, -0.2198, -0.2300, -0.2356, -0.1504, -0.1540, -0.1286, -0.2366,\n",
      "         -0.2455],\n",
      "        [-0.2228, -0.2162, -0.2659, -0.2233, -0.1973, -0.1149, -0.1424, -0.1639,\n",
      "         -0.2504],\n",
      "        [ 4.3124,  4.3123,  4.3120,  4.3123, -0.1600, -0.1556, -0.1684, -0.2534,\n",
      "          4.0478],\n",
      "        [-0.2360, -0.2316, -0.2128, -0.2461, -0.1334, -0.1540, -0.0751, -0.2182,\n",
      "         -0.2404],\n",
      "        [-0.2379, -0.2130, -0.2250, -0.2311, -0.0888, -0.1524, -0.0800, -0.2143,\n",
      "         -0.2474],\n",
      "        [-0.2360, -0.2444, -0.2314, -0.2511, -0.1615, -0.1438, -0.1408, -0.2193,\n",
      "         -0.2396],\n",
      "        [-0.2466, -0.2325, -0.2328, -0.2174, -0.1903, -0.0757, -0.2122, -0.1622,\n",
      "         -0.2515],\n",
      "        [-0.2296, -0.2371, -0.2041, -0.2324, -0.1564, -0.1407, -0.1838, -0.2299,\n",
      "         -0.2469]]), 'target': tensor([-10.,  14.,  -2., -28.,  -9.,  -7.,   6., -18.]), 'context': {'time': tensor([1.7092e+09, 1.7081e+09, 1.6901e+09, 1.6627e+09, 1.6514e+09, 1.6628e+09,\n",
      "        1.7087e+09, 1.6964e+09])}}\n"
     ]
    }
   ],
   "source": [
    "sample = next(iter(train_loader))\n",
    "print(sample)"
   ]
  },
  {
   "cell_type": "code",
   "execution_count": 14,
   "metadata": {},
   "outputs": [
    {
     "name": "stdout",
     "output_type": "stream",
     "text": [
      "dict_items([('time', tensor([1.6586e+09, 1.6909e+09, 1.6556e+09, 1.7240e+09, 1.7080e+09, 1.7098e+09,\n",
      "        1.6997e+09, 1.6519e+09]))])\n"
     ]
    },
    {
     "data": {
      "text/plain": [
       "torch.Size([8, 32])"
      ]
     },
     "execution_count": 14,
     "metadata": {},
     "output_type": "execute_result"
    }
   ],
   "source": [
    "sample = next(iter(train_loader))\n",
    "\n",
    "context_cols = {\"time\": \"time\"}\n",
    "\n",
    "encoder_model = context_encoding.ContextEncoder(\n",
    "    context_cols,\n",
    "    embedding_dim=32\n",
    ")\n",
    "\n",
    "print(sample[\"context\"].items())\n",
    "\n",
    "input_context = torch.concat([v for k, v in sample['context'].items()], dim=0)\n",
    "\n",
    "encoder = encoder_model(input_context)\n",
    "\n",
    "encoder.shape"
   ]
  },
  {
   "cell_type": "code",
   "execution_count": null,
   "metadata": {},
   "outputs": [],
   "source": []
  }
 ],
 "metadata": {
  "kernelspec": {
   "display_name": "torch",
   "language": "python",
   "name": "python3"
  },
  "language_info": {
   "codemirror_mode": {
    "name": "ipython",
    "version": 3
   },
   "file_extension": ".py",
   "mimetype": "text/x-python",
   "name": "python",
   "nbconvert_exporter": "python",
   "pygments_lexer": "ipython3",
   "version": "3.13.1"
  }
 },
 "nbformat": 4,
 "nbformat_minor": 2
}
