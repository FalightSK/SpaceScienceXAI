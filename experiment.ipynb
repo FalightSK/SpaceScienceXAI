{
 "cells": [
  {
   "cell_type": "code",
   "execution_count": 1,
   "metadata": {},
   "outputs": [],
   "source": [
    "import torch\n",
    "from torch import nn\n",
    "import numpy as np\n",
    "import pandas as pd\n",
    "\n",
    "from models.encoder_model import SpecialTransformer\n",
    "from utils.visualization import plot_attention_heatmap, context_analysis\n",
    "from utils.context_encoding import ContextEncoder\n",
    "from utils.preprocessing import *"
   ]
  },
  {
   "cell_type": "markdown",
   "metadata": {},
   "source": [
    "### Dataset Preparation"
   ]
  },
  {
   "cell_type": "code",
   "execution_count": 2,
   "metadata": {},
   "outputs": [
    {
     "data": {
      "text/html": [
       "<div>\n",
       "<style scoped>\n",
       "    .dataframe tbody tr th:only-of-type {\n",
       "        vertical-align: middle;\n",
       "    }\n",
       "\n",
       "    .dataframe tbody tr th {\n",
       "        vertical-align: top;\n",
       "    }\n",
       "\n",
       "    .dataframe thead th {\n",
       "        text-align: right;\n",
       "    }\n",
       "</style>\n",
       "<table border=\"1\" class=\"dataframe\">\n",
       "  <thead>\n",
       "    <tr style=\"text-align: right;\">\n",
       "      <th></th>\n",
       "      <th>Scalar_B</th>\n",
       "      <th>BX_GSE</th>\n",
       "      <th>BY_GSM</th>\n",
       "      <th>BZ_GSM</th>\n",
       "      <th>SW_Temp</th>\n",
       "      <th>SW_Density</th>\n",
       "      <th>SW_Speed</th>\n",
       "      <th>Flow_Pressure</th>\n",
       "      <th>E_Field</th>\n",
       "      <th>Dst</th>\n",
       "      <th>time</th>\n",
       "    </tr>\n",
       "  </thead>\n",
       "  <tbody>\n",
       "    <tr>\n",
       "      <th>0</th>\n",
       "      <td>7.8</td>\n",
       "      <td>-5.6</td>\n",
       "      <td>3.2</td>\n",
       "      <td>-4.0</td>\n",
       "      <td>76351.0</td>\n",
       "      <td>5.4</td>\n",
       "      <td>389.0</td>\n",
       "      <td>1.54</td>\n",
       "      <td>1.56</td>\n",
       "      <td>6</td>\n",
       "      <td>1640995200</td>\n",
       "    </tr>\n",
       "    <tr>\n",
       "      <th>1</th>\n",
       "      <td>8.3</td>\n",
       "      <td>-5.3</td>\n",
       "      <td>4.9</td>\n",
       "      <td>0.4</td>\n",
       "      <td>67379.0</td>\n",
       "      <td>4.7</td>\n",
       "      <td>390.0</td>\n",
       "      <td>1.26</td>\n",
       "      <td>-0.16</td>\n",
       "      <td>-3</td>\n",
       "      <td>1640998800</td>\n",
       "    </tr>\n",
       "    <tr>\n",
       "      <th>2</th>\n",
       "      <td>9.3</td>\n",
       "      <td>-2.7</td>\n",
       "      <td>3.9</td>\n",
       "      <td>-4.1</td>\n",
       "      <td>103254.0</td>\n",
       "      <td>2.1</td>\n",
       "      <td>454.0</td>\n",
       "      <td>0.87</td>\n",
       "      <td>1.86</td>\n",
       "      <td>-7</td>\n",
       "      <td>1641002400</td>\n",
       "    </tr>\n",
       "    <tr>\n",
       "      <th>3</th>\n",
       "      <td>9.8</td>\n",
       "      <td>1.7</td>\n",
       "      <td>4.0</td>\n",
       "      <td>-8.4</td>\n",
       "      <td>194757.0</td>\n",
       "      <td>2.7</td>\n",
       "      <td>466.0</td>\n",
       "      <td>1.17</td>\n",
       "      <td>3.91</td>\n",
       "      <td>-13</td>\n",
       "      <td>1641006000</td>\n",
       "    </tr>\n",
       "    <tr>\n",
       "      <th>4</th>\n",
       "      <td>8.5</td>\n",
       "      <td>-3.0</td>\n",
       "      <td>4.6</td>\n",
       "      <td>-4.4</td>\n",
       "      <td>126079.0</td>\n",
       "      <td>1.9</td>\n",
       "      <td>454.0</td>\n",
       "      <td>0.70</td>\n",
       "      <td>2.00</td>\n",
       "      <td>-21</td>\n",
       "      <td>1641009600</td>\n",
       "    </tr>\n",
       "  </tbody>\n",
       "</table>\n",
       "</div>"
      ],
      "text/plain": [
       "   Scalar_B  BX_GSE  BY_GSM  BZ_GSM   SW_Temp  SW_Density  SW_Speed  \\\n",
       "0       7.8    -5.6     3.2    -4.0   76351.0         5.4     389.0   \n",
       "1       8.3    -5.3     4.9     0.4   67379.0         4.7     390.0   \n",
       "2       9.3    -2.7     3.9    -4.1  103254.0         2.1     454.0   \n",
       "3       9.8     1.7     4.0    -8.4  194757.0         2.7     466.0   \n",
       "4       8.5    -3.0     4.6    -4.4  126079.0         1.9     454.0   \n",
       "\n",
       "   Flow_Pressure  E_Field  Dst        time  \n",
       "0           1.54     1.56    6  1640995200  \n",
       "1           1.26    -0.16   -3  1640998800  \n",
       "2           0.87     1.86   -7  1641002400  \n",
       "3           1.17     3.91  -13  1641006000  \n",
       "4           0.70     2.00  -21  1641009600  "
      ]
     },
     "execution_count": 2,
     "metadata": {},
     "output_type": "execute_result"
    }
   ],
   "source": [
    "df = pd.read_csv(r\"./dataset/dataset.csv\")\n",
    "df.head()"
   ]
  },
  {
   "cell_type": "code",
   "execution_count": 3,
   "metadata": {},
   "outputs": [],
   "source": [
    "feature_cols = ['Scalar_B', 'BX_GSE', 'BY_GSM', 'BZ_GSM', 'SW_Temp', 'SW_Density', 'SW_Speed', 'Flow_Pressure', 'E_Field']\n",
    "target_col = 'Dst'\n",
    "context_cols = ['time']\n",
    "numerical_features_info = {k:\"standard\" for k in feature_cols}\n",
    "\n",
    "dataset = TabularDataset(\n",
    "    data_path=r\"./dataset/dataset.csv\",\n",
    "    feature_cols=feature_cols,\n",
    "    target_col=target_col,\n",
    "    context_cols=context_cols,\n",
    "    numerical_features_info=numerical_features_info\n",
    ")"
   ]
  },
  {
   "cell_type": "code",
   "execution_count": 4,
   "metadata": {},
   "outputs": [],
   "source": [
    "batch_size = 32\n",
    "num_features = len(feature_cols)"
   ]
  },
  {
   "cell_type": "code",
   "execution_count": 5,
   "metadata": {},
   "outputs": [],
   "source": [
    "train_dataset, val_dataset, test_dataset = split_data(dataset)\n",
    "train_loader = create_dataloader(train_dataset, batch_size=batch_size)\n",
    "val_loader = create_dataloader(val_dataset)\n",
    "test_loader = create_dataloader(test_dataset)"
   ]
  },
  {
   "cell_type": "markdown",
   "metadata": {},
   "source": [
    "### Define Important Module"
   ]
  },
  {
   "cell_type": "code",
   "execution_count": 6,
   "metadata": {},
   "outputs": [],
   "source": [
    "config_path = r\"./config.json\"\n",
    "context_cols = {\"time\": \"time\"}\n",
    "embedding = ContextEncoder(context_cols, config_path)\n",
    "model = SpecialTransformer(config_path)"
   ]
  },
  {
   "cell_type": "code",
   "execution_count": 7,
   "metadata": {},
   "outputs": [
    {
     "name": "stdout",
     "output_type": "stream",
     "text": [
      "Input Matrix\n",
      "--------------------\n",
      "torch.Size([32, 9, 1])\n",
      "torch.Size([32, 5, 128])\n",
      "--------------------\n",
      "torch.Size([32, 1])\n"
     ]
    }
   ],
   "source": [
    "sample = next(iter(train_loader))\n",
    "\n",
    "features = sample['features'].unsqueeze_(dim=-1)\n",
    "\n",
    "input_context = torch.tensor(np.array([v.cpu().numpy() for k, v in sample['context'].items()]))\n",
    "context_embedding = embedding(input_context, 'cpu')\n",
    "\n",
    "print(\"Input Matrix\")\n",
    "print(\"-\"*20)\n",
    "print(features.size())\n",
    "print(context_embedding.size())\n",
    "print(\"-\"*20)\n",
    " \n",
    "outputs = model(features, context_embedding)\n",
    "\n",
    "print(outputs.size())"
   ]
  },
  {
   "cell_type": "markdown",
   "metadata": {},
   "source": [
    "### Create the training loop"
   ]
  },
  {
   "cell_type": "code",
   "execution_count": 8,
   "metadata": {},
   "outputs": [
    {
     "name": "stdout",
     "output_type": "stream",
     "text": [
      "cuda\n"
     ]
    }
   ],
   "source": [
    "criterion = nn.MSELoss()  # Mean Squared Error Loss\n",
    "optimizer = torch.optim.Adam(model.parameters(), lr=0.001)\n",
    "device = torch.device(\"cuda\" if torch.cuda.is_available() else \"cpu\")\n",
    "model = model.to(device)\n",
    "embedding = embedding.to(device)\n",
    "\n",
    "print(device)"
   ]
  },
  {
   "cell_type": "code",
   "execution_count": 9,
   "metadata": {},
   "outputs": [],
   "source": [
    "from tqdm import tqdm"
   ]
  },
  {
   "cell_type": "code",
   "execution_count": 10,
   "metadata": {},
   "outputs": [
    {
     "name": "stderr",
     "output_type": "stream",
     "text": [
      "  0%|          | 0/20 [00:00<?, ?it/s]"
     ]
    },
    {
     "name": "stdout",
     "output_type": "stream",
     "text": [
      "Train || epoch 0 train loss: 0.9921666098622175\n"
     ]
    },
    {
     "name": "stderr",
     "output_type": "stream",
     "text": [
      "  5%|▌         | 1/20 [00:22<07:04, 22.34s/it]"
     ]
    },
    {
     "name": "stdout",
     "output_type": "stream",
     "text": [
      "Validate || epoch 0 train loss: 0.9921666098622175\n",
      "Train || epoch 1 train loss: 0.9853967259700991\n"
     ]
    },
    {
     "name": "stderr",
     "output_type": "stream",
     "text": [
      " 10%|█         | 2/20 [00:42<06:14, 20.81s/it]"
     ]
    },
    {
     "name": "stdout",
     "output_type": "stream",
     "text": [
      "Validate || epoch 1 train loss: 0.9853967259700991\n",
      "Train || epoch 2 train loss: 0.9867852942059715\n"
     ]
    },
    {
     "name": "stderr",
     "output_type": "stream",
     "text": [
      " 15%|█▌        | 3/20 [01:03<05:57, 21.04s/it]"
     ]
    },
    {
     "name": "stdout",
     "output_type": "stream",
     "text": [
      "Validate || epoch 2 train loss: 0.9867852942059715\n",
      "Train || epoch 3 train loss: 0.9866900166217543\n"
     ]
    },
    {
     "name": "stderr",
     "output_type": "stream",
     "text": [
      " 20%|██        | 4/20 [01:25<05:43, 21.49s/it]"
     ]
    },
    {
     "name": "stdout",
     "output_type": "stream",
     "text": [
      "Validate || epoch 3 train loss: 0.9866900166217543\n",
      "Train || epoch 4 train loss: 0.9864459672845124\n"
     ]
    },
    {
     "name": "stderr",
     "output_type": "stream",
     "text": [
      " 25%|██▌       | 5/20 [01:46<05:18, 21.25s/it]"
     ]
    },
    {
     "name": "stdout",
     "output_type": "stream",
     "text": [
      "Validate || epoch 4 train loss: 0.9864459672845124\n",
      "Train || epoch 5 train loss: 0.9858349494617293\n"
     ]
    },
    {
     "name": "stderr",
     "output_type": "stream",
     "text": [
      " 30%|███       | 6/20 [02:06<04:52, 20.86s/it]"
     ]
    },
    {
     "name": "stdout",
     "output_type": "stream",
     "text": [
      "Validate || epoch 5 train loss: 0.9858349494617293\n",
      "Train || epoch 6 train loss: 0.9856164630236737\n"
     ]
    },
    {
     "name": "stderr",
     "output_type": "stream",
     "text": [
      " 35%|███▌      | 7/20 [02:26<04:26, 20.54s/it]"
     ]
    },
    {
     "name": "stdout",
     "output_type": "stream",
     "text": [
      "Validate || epoch 6 train loss: 0.9856164630236737\n",
      "Train || epoch 7 train loss: 0.9856772288854985\n"
     ]
    },
    {
     "name": "stderr",
     "output_type": "stream",
     "text": [
      " 40%|████      | 8/20 [02:45<04:02, 20.17s/it]"
     ]
    },
    {
     "name": "stdout",
     "output_type": "stream",
     "text": [
      "Validate || epoch 7 train loss: 0.9856772288854985\n",
      "Train || epoch 8 train loss: 0.985875743674568\n"
     ]
    },
    {
     "name": "stderr",
     "output_type": "stream",
     "text": [
      " 45%|████▌     | 9/20 [03:04<03:38, 19.86s/it]"
     ]
    },
    {
     "name": "stdout",
     "output_type": "stream",
     "text": [
      "Validate || epoch 8 train loss: 0.985875743674568\n",
      "Train || epoch 9 train loss: 0.985778959503148\n"
     ]
    },
    {
     "name": "stderr",
     "output_type": "stream",
     "text": [
      " 50%|█████     | 10/20 [03:24<03:17, 19.76s/it]"
     ]
    },
    {
     "name": "stdout",
     "output_type": "stream",
     "text": [
      "Validate || epoch 9 train loss: 0.985778959503148\n",
      "Train || epoch 10 train loss: 0.9858529147656309\n"
     ]
    },
    {
     "name": "stderr",
     "output_type": "stream",
     "text": [
      " 55%|█████▌    | 11/20 [03:43<02:56, 19.60s/it]"
     ]
    },
    {
     "name": "stdout",
     "output_type": "stream",
     "text": [
      "Validate || epoch 10 train loss: 0.9858529147656309\n",
      "Train || epoch 11 train loss: 0.9857596338024691\n"
     ]
    },
    {
     "name": "stderr",
     "output_type": "stream",
     "text": [
      " 60%|██████    | 12/20 [04:03<02:36, 19.52s/it]"
     ]
    },
    {
     "name": "stdout",
     "output_type": "stream",
     "text": [
      "Validate || epoch 11 train loss: 0.9857596338024691\n",
      "Train || epoch 12 train loss: 0.9856315024484956\n"
     ]
    },
    {
     "name": "stderr",
     "output_type": "stream",
     "text": [
      " 65%|██████▌   | 13/20 [04:23<02:18, 19.73s/it]"
     ]
    },
    {
     "name": "stdout",
     "output_type": "stream",
     "text": [
      "Validate || epoch 12 train loss: 0.9856315024484956\n",
      "Train || epoch 13 train loss: 0.985762399807236\n"
     ]
    },
    {
     "name": "stderr",
     "output_type": "stream",
     "text": [
      " 70%|███████   | 14/20 [04:42<01:57, 19.61s/it]"
     ]
    },
    {
     "name": "stdout",
     "output_type": "stream",
     "text": [
      "Validate || epoch 13 train loss: 0.985762399807236\n",
      "Train || epoch 14 train loss: 0.9855940432306739\n"
     ]
    },
    {
     "name": "stderr",
     "output_type": "stream",
     "text": [
      " 75%|███████▌  | 15/20 [05:02<01:38, 19.74s/it]"
     ]
    },
    {
     "name": "stdout",
     "output_type": "stream",
     "text": [
      "Validate || epoch 14 train loss: 0.9855940432306739\n",
      "Train || epoch 15 train loss: 0.9857163037523221\n"
     ]
    },
    {
     "name": "stderr",
     "output_type": "stream",
     "text": [
      " 80%|████████  | 16/20 [05:22<01:18, 19.66s/it]"
     ]
    },
    {
     "name": "stdout",
     "output_type": "stream",
     "text": [
      "Validate || epoch 15 train loss: 0.9857163037523221\n",
      "Train || epoch 16 train loss: 0.9851982253974298\n"
     ]
    },
    {
     "name": "stderr",
     "output_type": "stream",
     "text": [
      " 85%|████████▌ | 17/20 [05:41<00:58, 19.60s/it]"
     ]
    },
    {
     "name": "stdout",
     "output_type": "stream",
     "text": [
      "Validate || epoch 16 train loss: 0.9851982253974298\n",
      "Train || epoch 17 train loss: 0.9857920244756049\n"
     ]
    },
    {
     "name": "stderr",
     "output_type": "stream",
     "text": [
      " 90%|█████████ | 18/20 [06:01<00:39, 19.58s/it]"
     ]
    },
    {
     "name": "stdout",
     "output_type": "stream",
     "text": [
      "Validate || epoch 17 train loss: 0.9857920244756049\n",
      "Train || epoch 18 train loss: 0.9855982610488557\n"
     ]
    },
    {
     "name": "stderr",
     "output_type": "stream",
     "text": [
      " 95%|█████████▌| 19/20 [06:20<00:19, 19.51s/it]"
     ]
    },
    {
     "name": "stdout",
     "output_type": "stream",
     "text": [
      "Validate || epoch 18 train loss: 0.9855982610488557\n",
      "Train || epoch 19 train loss: 0.9853499648813818\n"
     ]
    },
    {
     "name": "stderr",
     "output_type": "stream",
     "text": [
      "100%|██████████| 20/20 [06:39<00:00, 20.00s/it]"
     ]
    },
    {
     "name": "stdout",
     "output_type": "stream",
     "text": [
      "Validate || epoch 19 train loss: 0.9853499648813818\n"
     ]
    },
    {
     "name": "stderr",
     "output_type": "stream",
     "text": [
      "\n"
     ]
    }
   ],
   "source": [
    "num_epochs = 20\n",
    "best_val_loss = float('inf')\n",
    "patience = 5  # Early stopping patience\n",
    "epochs_no_improve = 0\n",
    "train_losses = []  # Store training losses\n",
    "val_losses = []    # Store validation losses\n",
    "for epoch in tqdm(range(num_epochs)):\n",
    "    model.train()  # Set the model to training mode\n",
    "    embedding.train()\n",
    "    running_loss = 0.0\n",
    "    for batches in train_loader:\n",
    "        # Move data to the device\n",
    "        features = batches[\"features\"].to(device)\n",
    "        targets = batches[\"target\"].to(device)\n",
    "        input_context = torch.tensor(np.array([v.cpu().numpy() for k, v in batches[\"context\"].items()]))\n",
    "        input_context = input_context.to(device)\n",
    "        context = embedding(input_context, device)\n",
    "        \n",
    "        # Zero the parameter gradients\n",
    "        optimizer.zero_grad()\n",
    "        \n",
    "        # Forward pass\n",
    "        outputs = model(features.unsqueeze_(dim=-1), context)\n",
    "        \n",
    "        # Calculate the loss\n",
    "        loss = criterion(outputs.squeeze(), targets)\n",
    "        \n",
    "        # Backward pass and optimization\n",
    "        loss.backward()\n",
    "        optimizer.step()\n",
    "        running_loss += loss.item() * features.size(0)  # Accumulate loss for the epoch\n",
    "        \n",
    "    epoch_train_loss = running_loss / len(train_loader.dataset)\n",
    "    print(f\"Train || epoch {epoch} train loss: {epoch_train_loss}\")\n",
    "    train_losses.append(epoch_train_loss) # Append average loss\n",
    "    \n",
    "    # --- Validation Loop ---\n",
    "    model.eval()  # Set the model to evaluation mode\n",
    "    running_val_loss = 0.0\n",
    "    with torch.no_grad():  # Disable gradient calculations during validation\n",
    "        for batches in val_loader:\n",
    "            features = batches[\"features\"].to(device)\n",
    "            targets = batches[\"target\"].to(device)\n",
    "            input_context = torch.tensor(np.array([v.cpu().numpy() for k, v in batches[\"context\"].items()]))\n",
    "            input_context = input_context.to(device)\n",
    "            context = embedding(input_context)\n",
    "            \n",
    "            # Forward pass\n",
    "            outputs = model(features.unsqueeze_(dim=-1), context)\n",
    "            loss = criterion(outputs.squeeze(), targets)\n",
    "            running_val_loss += loss.item() * features.size(0)\n",
    "    epoch_val_loss = running_val_loss / len(val_loader.dataset)\n",
    "    print(f\"Validate || epoch {epoch} train loss: {epoch_val_loss}\")\n",
    "    val_losses.append(epoch_val_loss)"
   ]
  },
  {
   "cell_type": "code",
   "execution_count": 16,
   "metadata": {},
   "outputs": [
    {
     "data": {
      "image/png": "[encoded data removed]",
      "text/plain": [
       "<Figure size 600x400 with 2 Axes>"
      ]
     },
     "metadata": {},
     "output_type": "display_data"
    }
   ],
   "source": [
    "model.eval()  # Put the model in evaluation mode\n",
    "with torch.no_grad():  # Disable gradient calculations\n",
    "    attention_weights = model.get_attention_weights(features, context_embedding)\n",
    "\n",
    "average_attention = torch.mean(torch.stack(attention_weights), dim=0)\n",
    "single_batch_attention = average_attention[0].cpu().numpy()  # Single batch\n",
    "\n",
    "# --- Create Feature Labels (IMPORTANT) ---\n",
    "feature_names = [f\"f_{i}\" for i in range(single_batch_attention.shape[1])]  # Replace with YOUR feature names if available\n",
    "\n",
    "# --- Visualize the Heatmap ---\n",
    "plot_attention_heatmap(single_batch_attention, feature_names, figsize=(6, 4))"
   ]
  },
  {
   "cell_type": "code",
   "execution_count": null,
   "metadata": {},
   "outputs": [],
   "source": []
  }
 ],
 "metadata": {
  "kernelspec": {
   "display_name": "torch",
   "language": "python",
   "name": "python3"
  },
  "language_info": {
   "codemirror_mode": {
    "name": "ipython",
    "version": 3
   },
   "file_extension": ".py",
   "mimetype": "text/x-python",
   "name": "python",
   "nbconvert_exporter": "python",
   "pygments_lexer": "ipython3",
   "version": "3.13.1"
  }
 },
 "nbformat": 4,
 "nbformat_minor": 2
}
